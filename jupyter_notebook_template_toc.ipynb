{
 "cells": [
  {
   "cell_type": "raw",
   "metadata": {},
   "source": [
    "<!--\n",
    "Description : This is a template. Use to make your notebooks pretty. \n",
    "Author  : Amandeep Jiddewar.\n",
    "Created : 12/01/2021\n",
    "** Attribute, and feel free to use it, and share any feedback you like. ** \n",
    "-->\n",
    "<head>\n",
    "    <link rel=\"stylesheet\" href=\"https://www.w3schools.com/w3css/4/w3.css\">\n",
    "    <link rel=\"stylesheet\" href=\"https://fonts.googleapis.com/css?family=Raleway\">\n",
    "    <link rel=\"stylesheet\" href=\"https://fonts.googleapis.com/css?family=Oswald\">\n",
    "    <link rel=\"stylesheet\" href=\"https://fonts.googleapis.com/css?family=Open Sans\">\n",
    "    <link rel=\"stylesheet\" href=\"https://cdnjs.cloudflare.com/ajax/libs/font-awesome/4.7.0/css/font-awesome.min.css\">\n",
    "    <style>\n",
    "    .title-section{\n",
    "        font-family: \"Oswald\", Arial, sans-serif;\n",
    "        //font-weight: bold;\n",
    "        color: \"#6A8CAF\";\n",
    "        letter-spacing: 2px;\n",
    "        line-height: 1.4em;\n",
    "    }\n",
    "    hr { \n",
    "        border: 1px solid #E58F65 !important;\n",
    "        color: #E58F65 !important;\n",
    "        background: #E58F65 !important;\n",
    "    }\n",
    "    .footer-hr { \n",
    "        border: 1px solid #808080 !important;\n",
    "        color: #808080 !important;\n",
    "        background: #808080 !important;\n",
    "    }\n",
    "    body {\n",
    "        padding-left: 15em !important;\n",
    "        padding-right: 8em !important;\n",
    "        font-family: \"Open Sans\", sans-serif;\n",
    "    }\n",
    "    #toc_container {\n",
    "          background: #f9f9f9 none repeat scroll 0 0;\n",
    "          border: 1px solid #aaa;\n",
    "          font-size: 95%;\n",
    "          margin-bottom: 1em;\n",
    "          padding: 20px;\n",
    "          width: 20em !important;\n",
    "          position: fixed;\n",
    "          top: 1em;\n",
    "          left: 1em;\n",
    "    }\n",
    "    .toc_list {\n",
    "      border-bottom : 1 px grey;\n",
    "    }\n",
    "    ol {\n",
    "      counter-reset: item;\n",
    "    }\n",
    "    .toc_listitem {\n",
    "      display: table;\n",
    "      padding: 4px;\n",
    "    }\n",
    "    .toc_listitem:before {\n",
    "      content: counters(item, \".\") \".\";\n",
    "      counter-increment: item;\n",
    "      padding-right: 8px;\n",
    "      display: table-cell;\n",
    "    }\n",
    "    </style>\n",
    "</head>\n",
    "\n",
    "<script src=\"http://ajax.googleapis.com/ajax/libs/jquery/1.7.1/jquery.min.js\" type=\"text/javascript\"></script>\n",
    "\n",
    "<script>\n",
    "  \n",
    "  code_selector_string = '.jp-CodeCell > .jp-Cell-inputWrapper'\n",
    "\n",
    "  function code_toggle() {\n",
    "    if (code_shown){\n",
    "      $(code_selector_string).hide('500');\n",
    "      $('#toggleButton').val('Click this button to Show Code')\n",
    "    } else {\n",
    "      $(code_selector_string).show('500');\n",
    "      $('#toggleButton').val('Click this button to Hide Code')\n",
    "    }\n",
    "    code_shown = !code_shown\n",
    "  }\n",
    "  $( document ).ready(function(){\n",
    "    code_shown=false; \n",
    "    // by default hide the code\n",
    "    $(code_selector_string).hide();\n",
    "    // Hide square brackets [] before the output\n",
    "    $('div.jp-OutputPrompt').html('');\n",
    "    // Hide square brackets [] before the input\n",
    "    $('div.jp-InputPrompt').html('');\n",
    "  });\n",
    "</script>"
   ]
  },
  {
   "cell_type": "raw",
   "metadata": {},
   "source": [
    "<script>\n",
    "// Update notebook title\n",
    "  $( document ).ready(function(){\n",
    "    document.title = \"Notebook Title\"\n",
    "    var link = document.querySelector(\"link[rel~='icon']\");\n",
    "    if (!link) {\n",
    "        link = document.createElement('link');\n",
    "        link.rel = 'icon';\n",
    "        document.getElementsByTagName('head')[0].appendChild(link);\n",
    "    }\n",
    "    // Set favicon here\n",
    "    //link.href = 'https://stackoverflow.com/favicon.ico';\n",
    "  });\n",
    "</script>"
   ]
  },
  {
   "cell_type": "markdown",
   "metadata": {},
   "source": [
    "<div id=\"toc_container\">\n",
    "  <span class=\"title-section w3-xxlarge\" id=\"outline\">📑 Content</span>\n",
    "  <hr>\n",
    "  <ol class=\"toc_list\">\n",
    "    <li class=\"toc_listitem\"><a href=\"#introduction\">📝 Introduction</a>\n",
    "    <ol>\n",
    "      <li class=\"toc_listitem\"><a href=\"#background\">📜 Background</a></li>\n",
    "      <ol>\n",
    "        <li class=\"toc_listitem\"><a href=\"#subbackground\">📜 Sub Background</a></li>\n",
    "      </ol>\n",
    "    </ol>\n",
    "    </li>\n",
    "    <li class=\"toc_listitem\"><a href=\"#diving\">🤿 Diving into the Data</a></li>\n",
    "    <li class=\"toc_listitem\"><a href=\"#imports\">📚 Imports</a></li>\n",
    "    <li class=\"toc_listitem\"><a href=\"#config\">🎚️ Configurations</a></li>\n",
    "    <li class=\"toc_listitem\"><a href=\"#loading\">🗃️ Data Loading</a></li>\n",
    "    <li class=\"toc_listitem\"><a href=\"#eda\">📊 Exploratory Data Analysis</a></li>\n",
    "    <li class=\"toc_listitem\"><a href=\"#features\">🔬 Feature Engineering</a></li>\n",
    "    <li class=\"toc_listitem\"><a href=\"#modelconf\">⚙️ Configure The Model - this text should wrap to the next line</a></li>\n",
    "    <li class=\"toc_listitem\"><a href=\"#training\">🏋️ Training</a></li>\n",
    "    <li class=\"toc_listitem\"><a href=\"#submit\">✅ Submit</a></li>\n",
    "  </ol>\n",
    "  \n",
    "  <form action=\"javascript:code_toggle()\">\n",
    "    <input type=\"submit\" id=\"toggleButton\" value=\"Click this button to Show Code\">\n",
    "  </form>\n",
    "</div>"
   ]
  },
  {
   "cell_type": "markdown",
   "metadata": {},
   "source": [
    "# <span class=\"title-section w3-xxlarge\" id=\"introduction\">📝 Introduction</span>\n",
    "<hr>"
   ]
  },
  {
   "cell_type": "markdown",
   "metadata": {},
   "source": [
    "Write the introduction here....."
   ]
  },
  {
   "cell_type": "markdown",
   "metadata": {},
   "source": [
    "## <span class=\"title-section w3-xlarge\" id=\"background\">📜 Background</span>\n",
    "<hr>"
   ]
  },
  {
   "cell_type": "markdown",
   "metadata": {},
   "source": [
    "Write the background here....."
   ]
  },
  {
   "cell_type": "markdown",
   "metadata": {},
   "source": [
    "## <span class=\"title-section w3-large\" id=\"subbackground\">📜 Sub Background</span>\n",
    "<hr>"
   ]
  },
  {
   "cell_type": "markdown",
   "metadata": {},
   "source": [
    "# <span class=\"title-section w3-xxlarge\" id=\"diving\">🤿 Diving into the Data</span>\n",
    "<hr>"
   ]
  },
  {
   "cell_type": "markdown",
   "metadata": {},
   "source": [
    "# <span class=\"title-section w3-xxlarge\" id=\"imports\">📚 Imports</span>\n",
    "<hr>"
   ]
  },
  {
   "cell_type": "code",
   "execution_count": 7,
   "metadata": {},
   "outputs": [],
   "source": [
    "import sys\n",
    "sys.path.append(\"../\")"
   ]
  },
  {
   "cell_type": "code",
   "execution_count": 4,
   "metadata": {},
   "outputs": [
    {
     "name": "stdout",
     "output_type": "stream",
     "text": [
      "The autoreload extension is already loaded. To reload it, use:\n",
      "  %reload_ext autoreload\n"
     ]
    }
   ],
   "source": [
    "%load_ext autoreload\n",
    "%autoreload 2"
   ]
  },
  {
   "cell_type": "code",
   "execution_count": 5,
   "metadata": {},
   "outputs": [],
   "source": [
    "# Load the libraries\n",
    "import pandas as pd\n",
    "import numpy as np\n",
    "\n",
    "import matplotlib.pyplot as plt\n",
    "import seaborn as sns"
   ]
  },
  {
   "cell_type": "markdown",
   "metadata": {},
   "source": [
    "# <span class=\"title-section w3-xxlarge\" id=\"config\">🎚️ Configurations</span>\n",
    "<hr>"
   ]
  },
  {
   "cell_type": "markdown",
   "metadata": {},
   "source": [
    "# <span class=\"title-section w3-xxlarge\" id=\"loading\">🗃️ Data Loading</span>\n",
    "<hr>"
   ]
  },
  {
   "cell_type": "code",
   "execution_count": 6,
   "metadata": {},
   "outputs": [
    {
     "name": "stdout",
     "output_type": "stream",
     "text": [
      "Load the data using code here....\n"
     ]
    }
   ],
   "source": [
    "print(\"Load the data using code here....\")"
   ]
  },
  {
   "cell_type": "markdown",
   "metadata": {},
   "source": [
    "# <span class=\"title-section w3-xxlarge\" id=\"eda\">📊 Exploratory Data Analysis</span>\n",
    "<hr>"
   ]
  },
  {
   "cell_type": "markdown",
   "metadata": {},
   "source": [
    "# <span class=\"title-section w3-xxlarge\" id=\"features\">🔬 Feature Engineering</span>\n",
    "<hr>"
   ]
  },
  {
   "cell_type": "markdown",
   "metadata": {},
   "source": [
    "# <span class=\"title-section w3-xxlarge\" id=\"modelconf\">⚙️ Configure The Model</span>\n",
    "<hr>"
   ]
  },
  {
   "cell_type": "markdown",
   "metadata": {},
   "source": [
    "# <span class=\"title-section w3-xxlarge\" id=\"training\">🏋️ Training</span>\n",
    "<hr>"
   ]
  },
  {
   "cell_type": "markdown",
   "metadata": {},
   "source": [
    "# <span class=\"title-section w3-xxlarge\" id=\"submit\">✅ Submit</span>\n",
    "<hr>"
   ]
  },
  {
   "cell_type": "raw",
   "metadata": {},
   "source": []
  },
  {
   "cell_type": "markdown",
   "metadata": {},
   "source": []
  },
  {
   "cell_type": "raw",
   "metadata": {},
   "source": [
    "<link href=\"https://cdnjs.cloudflare.com/ajax/libs/font-awesome/5.11.2/css/all.min.css\" rel=\"stylesheet\"/>\n",
    "\n",
    "<hr class=\"footer-hr\">\n",
    "\n",
    "<div style=\"text-align:center\">\n",
    "    <h4>Questions, Comments, Concerns?</h4>\n",
    "    Contact: \n",
    "    <a id=\"_dev_1\" style=\"color: blue !important;text-decoration: underline !important;\">\n",
    "        Amandeep Jiddewar\n",
    "    </a>\n",
    "    <span> , </span>\n",
    "    <a id=\"_dev_2\" style=\"color: blue;text-decoration: underline;\">\n",
    "        Mark Glogowski\n",
    "    </a>\n",
    "    <p>\n",
    "        Built with <i class=\"fas fa-heart\"></i> and <i class=\"fas fa-coffee\"></i> | \n",
    "        &copy; <span id=\"_year\"></span> CertainTeed, All Rights Reserved    \n",
    "    </p>\n",
    "</div>\n",
    "\n",
    "<script>\n",
    "  $( document ).ready(function(){\n",
    "    document.getElementById(\"_year\").innerHTML = new Date().getFullYear();\n",
    "\tdocument_title = document.title\n",
    "\tdocument.getElementById(\"_dev_1\").href = \"mailto:amandeep.f.jiddewar@saint-gobain.com?subject=\" + document_title;\n",
    "    document.getElementById(\"_dev_2\").href = \"mailto:mark.r.glogowski@saint-gobain.com?subject=\" + document_title;\n",
    "  });\n",
    "</script>"
   ]
  }
 ],
 "metadata": {
  "interpreter": {
   "hash": "f195d28a76305ae374346755316c79a40fe88f625da5bf1e60db59c378ee9bb1"
  },
  "kernelspec": {
   "display_name": "Python 3.9.6 64-bit",
   "language": "python",
   "name": "python3"
  },
  "language_info": {
   "codemirror_mode": {
    "name": "ipython",
    "version": 3
   },
   "file_extension": ".py",
   "mimetype": "text/x-python",
   "name": "python",
   "nbconvert_exporter": "python",
   "pygments_lexer": "ipython3",
   "version": "3.9.6"
  },
  "orig_nbformat": 4
 },
 "nbformat": 4,
 "nbformat_minor": 2
}
